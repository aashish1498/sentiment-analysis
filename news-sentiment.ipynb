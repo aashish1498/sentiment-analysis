{
 "cells": [
  {
   "cell_type": "code",
   "execution_count": null,
   "id": "b3c1dd17",
   "metadata": {},
   "outputs": [],
   "source": [
    "import nltk\n",
    "\n",
    "nltk.download('punkt')\n",
    "nltk.download('stopwords')\n",
    "nltk.download('wordnet')\n",
    "nltk.download('vader_lexicon')"
   ]
  },
  {
   "cell_type": "code",
   "execution_count": null,
   "id": "f299ac51",
   "metadata": {},
   "outputs": [],
   "source": [
    "from article_retriever import get_articles_for_topic\n",
    "from config_parser import retrieve_topic_url\n",
    "\n",
    "topic_url = retrieve_topic_url('BBC', 'transgender')\n",
    "url_list = get_articles_for_topic(topic_url)\n",
    "article_count = len(url_list)\n",
    "print(article_count, 'article(s) found')"
   ]
  },
  {
   "cell_type": "code",
   "execution_count": null,
   "id": "74721166",
   "metadata": {},
   "outputs": [],
   "source": [
    "import numpy as np\n",
    "from article_retriever import get_info_from_article\n",
    "from preprocessing import preprocess_text\n",
    "from sentiment_analysis import get_polarity\n",
    "\n",
    "full_polarity_list = []\n",
    "for i, url in enumerate(url_list):\n",
    "    [header, article_text] = get_info_from_article(url)\n",
    "    preprocessed_text = preprocess_text(article_text)\n",
    "    article_polarity = get_polarity(preprocessed_text)\n",
    "    full_polarity_list.append({'header': header, 'polarity': article_polarity, 'url': url})\n",
    "    print(f\"Article {i+1}/{article_count} processed\")\n",
    "\n",
    "# TODO: add requirements file for imports"
   ]
  },
  {
   "cell_type": "code",
   "execution_count": null,
   "id": "6be8f8c2",
   "metadata": {},
   "outputs": [],
   "source": [
    "from plot_methods import create_dataframe\n",
    "\n",
    "dataframe = create_dataframe(full_polarity_list) \n",
    "avg_polarity = np.mean(dataframe['polarity'])\n",
    "print(\"Average polarity: \", avg_polarity)\n",
    "print(dataframe[['header', 'polarity']])"
   ]
  },
  {
   "cell_type": "code",
   "execution_count": null,
   "id": "3e24d204",
   "metadata": {},
   "outputs": [],
   "source": [
    "from plot_methods import display_histogram\n",
    "\n",
    "display_histogram(full_polarity_list)"
   ]
  },
  {
   "cell_type": "code",
   "execution_count": null,
   "id": "2038a083",
   "metadata": {},
   "outputs": [],
   "source": [
    "from plot_methods import display_heatmap\n",
    "\n",
    "display_heatmap(full_polarity_list)"
   ]
  }
 ],
 "metadata": {
  "kernelspec": {
   "display_name": "work",
   "language": "python",
   "name": "python3"
  },
  "language_info": {
   "codemirror_mode": {
    "name": "ipython",
    "version": 3
   },
   "file_extension": ".py",
   "mimetype": "text/x-python",
   "name": "python",
   "nbconvert_exporter": "python",
   "pygments_lexer": "ipython3",
   "version": "3.9.16"
  },
  "vscode": {
   "interpreter": {
    "hash": "ab0de5f2c42c334a270ce520738908c8f1964f7214e5cf9b2725bca46514c63e"
   }
  }
 },
 "nbformat": 4,
 "nbformat_minor": 5
}
