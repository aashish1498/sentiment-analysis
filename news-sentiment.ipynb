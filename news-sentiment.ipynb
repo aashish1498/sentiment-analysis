{
 "cells": [
  {
   "cell_type": "code",
   "execution_count": null,
   "id": "b3c1dd17",
   "metadata": {},
   "outputs": [],
   "source": [
    "import nltk\n",
    "\n",
    "nltk.download('punkt')\n",
    "nltk.download('stopwords')\n",
    "nltk.download('wordnet')\n",
    "nltk.download('vader_lexicon')"
   ]
  },
  {
   "cell_type": "code",
   "execution_count": null,
   "id": "f71411b2",
   "metadata": {},
   "outputs": [],
   "source": [
    "from matplotlib import pyplot as plt\n",
    "import seaborn as sns\n",
    "\n",
    "from preprocessing import *"
   ]
  },
  {
   "cell_type": "code",
   "execution_count": null,
   "id": "74721166",
   "metadata": {},
   "outputs": [],
   "source": [
    "import numpy as np\n",
    "from article_retriever import get_info_from_article, get_articles_for_topic\n",
    "from config_parser import retrieve_topic_url\n",
    "from sentiment_analysis import get_polarity\n",
    "\n",
    "topic_url = retrieve_topic_url('BBC', 'transgender')\n",
    "url_list = get_articles_for_topic(topic_url)\n",
    "full_polarity_list = []\n",
    "for url in url_list:\n",
    "    [header, article_text] = get_info_from_article(url)\n",
    "    preprocessed_text = preprocess_text(article_text)\n",
    "    article_polarity = get_polarity(preprocessed_text)\n",
    "    \n",
    "    print(header)\n",
    "    print(article_polarity)\n",
    "    full_polarity_list.append(article_polarity)\n",
    "\n",
    "print(\"Average polarity: \")\n",
    "print(np.mean(full_polarity_list))\n",
    "\n",
    "# TODO: use pandas"
   ]
  },
  {
   "cell_type": "code",
   "execution_count": null,
   "id": "3e24d204",
   "metadata": {},
   "outputs": [],
   "source": [
    "# Plot Histogram on\n",
    "%matplotlib inline\n",
    "plt.rcParams.update({'figure.figsize':(7,5), 'figure.dpi':100})\n",
    "plt.hist(full_polarity_list, bins=50)\n",
    "plt.gca().set(title='Frequency Histogram', ylabel='Frequency');"
   ]
  },
  {
   "cell_type": "code",
   "execution_count": null,
   "id": "2038a083",
   "metadata": {},
   "outputs": [],
   "source": [
    "my_list = full_polarity_list\n",
    "n = int(len(my_list) ** 0.5)\n",
    "my_matrix = [my_list[i:i+n] for i in range(0, len(my_list), n)]\n",
    "# create the heatmap using seaborn\n",
    "sns.heatmap(my_matrix, cmap='coolwarm')\n",
    "plt.show()"
   ]
  }
 ],
 "metadata": {
  "kernelspec": {
   "display_name": "work",
   "language": "python",
   "name": "python3"
  },
  "language_info": {
   "codemirror_mode": {
    "name": "ipython",
    "version": 3
   },
   "file_extension": ".py",
   "mimetype": "text/x-python",
   "name": "python",
   "nbconvert_exporter": "python",
   "pygments_lexer": "ipython3",
   "version": "3.9.16"
  },
  "vscode": {
   "interpreter": {
    "hash": "ab0de5f2c42c334a270ce520738908c8f1964f7214e5cf9b2725bca46514c63e"
   }
  }
 },
 "nbformat": 4,
 "nbformat_minor": 5
}
