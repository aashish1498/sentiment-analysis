{
 "cells": [
  {
   "cell_type": "code",
   "execution_count": null,
   "id": "b3c1dd17",
   "metadata": {},
   "outputs": [],
   "source": [
    "import nltk\n",
    "\n",
    "nltk.download('punkt')\n",
    "nltk.download('stopwords')\n",
    "nltk.download('wordnet')\n",
    "nltk.download('vader_lexicon')"
   ]
  },
  {
   "cell_type": "code",
   "execution_count": null,
   "id": "55b058f6",
   "metadata": {},
   "outputs": [],
   "source": [
    "from modules.article_retriever import get_articles_for_topic\n",
    "\n",
    "def get_article_urls(source, topic, number_of_pages):\n",
    "    url_list = []\n",
    "    for i in range(number_of_pages):\n",
    "        if i == 0 :\n",
    "            suffix = ''\n",
    "        else:\n",
    "            suffix = f'?page={i}'\n",
    "        url_list = url_list + get_articles_for_topic(source, topic, suffix)\n",
    "    return url_list\n"
   ]
  },
  {
   "cell_type": "code",
   "execution_count": null,
   "id": "f299ac51",
   "metadata": {},
   "outputs": [],
   "source": [
    "from common.enum import NewsSource, Topic\n",
    "\n",
    "topic = Topic.UKRAINE\n",
    "source = NewsSource.PINK\n",
    "number_of_pages = 1\n",
    "\n",
    "url_list = get_article_urls(source, topic, number_of_pages)\n",
    "article_count = len(url_list)\n",
    "print(article_count, 'article(s) found')"
   ]
  },
  {
   "cell_type": "code",
   "execution_count": null,
   "id": "74721166",
   "metadata": {},
   "outputs": [],
   "source": [
    "from modules.article_retriever import extract_article_info\n",
    "from modules.preprocessing import preprocess_text\n",
    "from modules.sentiment_analysis import get_polarity, SentimentMethod\n",
    "\n",
    "article_sentiments = []\n",
    "for i, url in enumerate(url_list):\n",
    "    [header, article_text] = extract_article_info(url, source)\n",
    "    if not article_text:\n",
    "        print(f\"No text in article {i+1} ({url})\")\n",
    "        continue\n",
    "    article_polarity = get_polarity(preprocess_text(article_text), SentimentMethod.VADER)\n",
    "    article_sentiments.append({'header': header, 'polarity': article_polarity, 'url': url})\n",
    "    print(f\"Article {i+1}/{article_count} processed\")\n"
   ]
  },
  {
   "cell_type": "code",
   "execution_count": null,
   "id": "6be8f8c2",
   "metadata": {},
   "outputs": [],
   "source": [
    "from modules.plot_methods import create_dataframe\n",
    "\n",
    "sentiment_df = create_dataframe(article_sentiments)\n",
    "sentiment_df.name = topic.value.replace('_', ' ').title()\n",
    "print(sentiment_df[['header', 'polarity']])"
   ]
  },
  {
   "cell_type": "code",
   "execution_count": null,
   "id": "3e24d204",
   "metadata": {},
   "outputs": [],
   "source": [
    "from modules.plot_methods import display_histogram\n",
    "\n",
    "display_histogram(sentiment_df)\n"
   ]
  },
  {
   "cell_type": "code",
   "execution_count": null,
   "id": "2038a083",
   "metadata": {},
   "outputs": [],
   "source": [
    "from modules.plot_methods import display_heatmap\n",
    "\n",
    "display_heatmap(sentiment_df)"
   ]
  }
 ],
 "metadata": {
  "kernelspec": {
   "display_name": "work",
   "language": "python",
   "name": "python3"
  },
  "language_info": {
   "codemirror_mode": {
    "name": "ipython",
    "version": 3
   },
   "file_extension": ".py",
   "mimetype": "text/x-python",
   "name": "python",
   "nbconvert_exporter": "python",
   "pygments_lexer": "ipython3",
   "version": "3.9.16"
  },
  "vscode": {
   "interpreter": {
    "hash": "ab0de5f2c42c334a270ce520738908c8f1964f7214e5cf9b2725bca46514c63e"
   }
  }
 },
 "nbformat": 4,
 "nbformat_minor": 5
}
