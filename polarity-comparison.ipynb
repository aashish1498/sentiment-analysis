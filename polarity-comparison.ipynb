{
 "cells": [
  {
   "cell_type": "code",
   "execution_count": null,
   "id": "b3c1dd17",
   "metadata": {},
   "outputs": [],
   "source": [
    "import nltk\n",
    "\n",
    "nltk.download('punkt')\n",
    "nltk.download('stopwords')\n",
    "nltk.download('wordnet')\n",
    "nltk.download('vader_lexicon')"
   ]
  },
  {
   "cell_type": "code",
   "execution_count": null,
   "id": "f299ac51",
   "metadata": {},
   "outputs": [],
   "source": [
    "import os\n",
    "from modules.sentiment_analysis import SentimentMethod\n",
    "\n",
    "source = 'reviews'\n",
    "topic = 'negative'\n",
    "folder_path = f'data/{source}/{topic}'\n",
    "\n",
    "sentiment_method = SentimentMethod.FLAIR"
   ]
  },
  {
   "cell_type": "code",
   "execution_count": null,
   "id": "fb59f266",
   "metadata": {},
   "outputs": [],
   "source": [
    "from modules.preprocessing import preprocess_text\n",
    "from modules.sentiment_analysis import get_polarity\n",
    "\n",
    "sentiments = []\n",
    "for filename in os.listdir(folder_path):\n",
    "    if filename.endswith('.txt'):\n",
    "        file_path = os.path.join(folder_path, filename)\n",
    "        with open(file_path, 'r') as f:\n",
    "            text = f.read()\n",
    "            article_polarity = get_polarity(preprocess_text(text), sentiment_method)\n",
    "            sentiments.append({'header': filename, 'polarity': article_polarity})"
   ]
  },
  {
   "cell_type": "code",
   "execution_count": null,
   "id": "6be8f8c2",
   "metadata": {},
   "outputs": [],
   "source": [
    "from modules.plot_methods import create_dataframe\n",
    "\n",
    "sentiment_df = create_dataframe(sentiments)\n",
    "sentiment_df.name = f'{topic} {source} ({sentiment_method.value})'.title()\n",
    "print(sentiment_df[['header', 'polarity']])"
   ]
  },
  {
   "cell_type": "code",
   "execution_count": null,
   "id": "3e24d204",
   "metadata": {},
   "outputs": [],
   "source": [
    "from modules.plot_methods import display_histogram\n",
    "\n",
    "display_histogram(sentiment_df)"
   ]
  },
  {
   "cell_type": "code",
   "execution_count": null,
   "id": "2038a083",
   "metadata": {},
   "outputs": [],
   "source": [
    "from modules.plot_methods import display_heatmap\n",
    "\n",
    "display_heatmap(sentiment_df)"
   ]
  }
 ],
 "metadata": {
  "kernelspec": {
   "display_name": "work",
   "language": "python",
   "name": "python3"
  },
  "language_info": {
   "codemirror_mode": {
    "name": "ipython",
    "version": 3
   },
   "file_extension": ".py",
   "mimetype": "text/x-python",
   "name": "python",
   "nbconvert_exporter": "python",
   "pygments_lexer": "ipython3",
   "version": "3.9.16"
  },
  "vscode": {
   "interpreter": {
    "hash": "ab0de5f2c42c334a270ce520738908c8f1964f7214e5cf9b2725bca46514c63e"
   }
  }
 },
 "nbformat": 4,
 "nbformat_minor": 5
}
