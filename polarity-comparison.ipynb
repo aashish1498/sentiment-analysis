{
 "cells": [
  {
   "cell_type": "code",
   "execution_count": null,
   "id": "b3c1dd17",
   "metadata": {},
   "outputs": [],
   "source": [
    "import nltk\n",
    "\n",
    "nltk.download('punkt')\n",
    "nltk.download('stopwords')\n",
    "nltk.download('wordnet')\n",
    "nltk.download('vader_lexicon')"
   ]
  },
  {
   "cell_type": "code",
   "execution_count": null,
   "id": "fb59f266",
   "metadata": {},
   "outputs": [],
   "source": [
    "import os\n",
    "\n",
    "def get_folder(source, topic):\n",
    "    return f'data/{source.value}/{topic.value}'\n",
    "\n",
    "def get_text_from_file(filepath):\n",
    "    with open(filepath, 'r') as f:\n",
    "        text = f.read()\n",
    "    return text\n"
   ]
  },
  {
   "cell_type": "code",
   "execution_count": null,
   "id": "352009ad",
   "metadata": {},
   "outputs": [],
   "source": [
    "from modules.preprocessing import preprocess_text\n",
    "from modules.sentiment_analysis import get_polarity\n",
    "\n",
    "def get_sentiments_from_text(source, topic, sentiment_method):\n",
    "    folder_path = get_folder(source, topic)\n",
    "    sentiments = []\n",
    "    for filename in os.listdir(folder_path):\n",
    "        text = get_text_from_file(os.path.join(folder_path, filename))\n",
    "        article_polarity = get_polarity(preprocess_text(text), sentiment_method)\n",
    "        sentiments.append({'header': filename, 'polarity': article_polarity})\n",
    "    return sentiments"
   ]
  },
  {
   "cell_type": "code",
   "execution_count": null,
   "id": "2038a083",
   "metadata": {},
   "outputs": [],
   "source": [
    "from matplotlib import pyplot as plt\n",
    "from common.enum import *\n",
    "from modules.plot_methods import create_dataframe, display_histogram\n",
    "\n",
    "textType = TextType.NEGATIVE\n",
    "textSource = TextSource.ARTICLES\n",
    "\n",
    "for method in SentimentMethod:\n",
    "    sentiments = get_sentiments_from_text(textSource, textType, method)\n",
    "    sentiment_df = create_dataframe(sentiments)\n",
    "    sentiment_df.name = f'{textType.value} {textSource.value} ({method.value})'.title()\n",
    "    display_histogram(sentiment_df)\n",
    "    #plt.savefig(f'{method.value}-{textSource.value}-{textType.value}.webp')\n"
   ]
  }
 ],
 "metadata": {
  "kernelspec": {
   "display_name": "work",
   "language": "python",
   "name": "python3"
  },
  "language_info": {
   "codemirror_mode": {
    "name": "ipython",
    "version": 3
   },
   "file_extension": ".py",
   "mimetype": "text/x-python",
   "name": "python",
   "nbconvert_exporter": "python",
   "pygments_lexer": "ipython3",
   "version": "3.9.16"
  },
  "vscode": {
   "interpreter": {
    "hash": "ab0de5f2c42c334a270ce520738908c8f1964f7214e5cf9b2725bca46514c63e"
   }
  }
 },
 "nbformat": 4,
 "nbformat_minor": 5
}
